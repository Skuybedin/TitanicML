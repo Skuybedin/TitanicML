{
 "cells": [
  {
   "cell_type": "code",
   "execution_count": 1,
   "metadata": {},
   "outputs": [],
   "source": [
    "# Базовые библиотеки\n",
    "import numpy as np\n",
    "import pandas as pd\n",
    "import seaborn as sns\n",
    "\n",
    "# Все для машинного обучения\n",
    "from sklearn.preprocessing import StandardScaler, LabelEncoder\n",
    "from sklearn.ensemble import RandomForestClassifier, GradientBoostingClassifier\n",
    "from sklearn.neighbors import KNeighborsClassifier\n",
    "from sklearn.model_selection import StratifiedKFold, GridSearchCV, cross_val_score\n",
    "from sklearn.linear_model import LogisticRegression\n",
    "from xgboost import XGBClassifier\n",
    "\n",
    "# Игнорируем ошибки\n",
    "import warnings\n",
    "warnings.filterwarnings('ignore')"
   ]
  },
  {
   "cell_type": "code",
   "execution_count": 2,
   "metadata": {},
   "outputs": [],
   "source": [
    "# Загружаем тренировочный, тестовый датасет и пример результатов\n",
    "train = pd.read_csv('data/train.csv')\n",
    "test = pd.read_csv('data/test.csv')\n",
    "result_example = pd.read_csv('data/gender_submission.csv')"
   ]
  },
  {
   "cell_type": "code",
   "execution_count": 3,
   "metadata": {},
   "outputs": [
    {
     "data": {
      "text/html": [
       "<div>\n",
       "<style scoped>\n",
       "    .dataframe tbody tr th:only-of-type {\n",
       "        vertical-align: middle;\n",
       "    }\n",
       "\n",
       "    .dataframe tbody tr th {\n",
       "        vertical-align: top;\n",
       "    }\n",
       "\n",
       "    .dataframe thead th {\n",
       "        text-align: right;\n",
       "    }\n",
       "</style>\n",
       "<table border=\"1\" class=\"dataframe\">\n",
       "  <thead>\n",
       "    <tr style=\"text-align: right;\">\n",
       "      <th></th>\n",
       "      <th>PassengerId</th>\n",
       "      <th>Survived</th>\n",
       "      <th>Pclass</th>\n",
       "      <th>Name</th>\n",
       "      <th>Sex</th>\n",
       "      <th>Age</th>\n",
       "      <th>SibSp</th>\n",
       "      <th>Parch</th>\n",
       "      <th>Ticket</th>\n",
       "      <th>Fare</th>\n",
       "      <th>Cabin</th>\n",
       "      <th>Embarked</th>\n",
       "    </tr>\n",
       "  </thead>\n",
       "  <tbody>\n",
       "    <tr>\n",
       "      <th>0</th>\n",
       "      <td>1</td>\n",
       "      <td>0</td>\n",
       "      <td>3</td>\n",
       "      <td>Braund, Mr. Owen Harris</td>\n",
       "      <td>male</td>\n",
       "      <td>22.0</td>\n",
       "      <td>1</td>\n",
       "      <td>0</td>\n",
       "      <td>A/5 21171</td>\n",
       "      <td>7.2500</td>\n",
       "      <td>NaN</td>\n",
       "      <td>S</td>\n",
       "    </tr>\n",
       "    <tr>\n",
       "      <th>1</th>\n",
       "      <td>2</td>\n",
       "      <td>1</td>\n",
       "      <td>1</td>\n",
       "      <td>Cumings, Mrs. John Bradley (Florence Briggs Th...</td>\n",
       "      <td>female</td>\n",
       "      <td>38.0</td>\n",
       "      <td>1</td>\n",
       "      <td>0</td>\n",
       "      <td>PC 17599</td>\n",
       "      <td>71.2833</td>\n",
       "      <td>C85</td>\n",
       "      <td>C</td>\n",
       "    </tr>\n",
       "  </tbody>\n",
       "</table>\n",
       "</div>"
      ],
      "text/plain": [
       "   PassengerId  Survived  Pclass  \\\n",
       "0            1         0       3   \n",
       "1            2         1       1   \n",
       "\n",
       "                                                Name     Sex   Age  SibSp  \\\n",
       "0                            Braund, Mr. Owen Harris    male  22.0      1   \n",
       "1  Cumings, Mrs. John Bradley (Florence Briggs Th...  female  38.0      1   \n",
       "\n",
       "   Parch     Ticket     Fare Cabin Embarked  \n",
       "0      0  A/5 21171   7.2500   NaN        S  \n",
       "1      0   PC 17599  71.2833   C85        C  "
      ]
     },
     "execution_count": 3,
     "metadata": {},
     "output_type": "execute_result"
    }
   ],
   "source": [
    "# Посмотрим на наш тренировочный датасет\n",
    "train.head(2)"
   ]
  },
  {
   "cell_type": "code",
   "execution_count": 4,
   "metadata": {},
   "outputs": [
    {
     "data": {
      "text/html": [
       "<div>\n",
       "<style scoped>\n",
       "    .dataframe tbody tr th:only-of-type {\n",
       "        vertical-align: middle;\n",
       "    }\n",
       "\n",
       "    .dataframe tbody tr th {\n",
       "        vertical-align: top;\n",
       "    }\n",
       "\n",
       "    .dataframe thead th {\n",
       "        text-align: right;\n",
       "    }\n",
       "</style>\n",
       "<table border=\"1\" class=\"dataframe\">\n",
       "  <thead>\n",
       "    <tr style=\"text-align: right;\">\n",
       "      <th></th>\n",
       "      <th>PassengerId</th>\n",
       "      <th>Pclass</th>\n",
       "      <th>Name</th>\n",
       "      <th>Sex</th>\n",
       "      <th>Age</th>\n",
       "      <th>SibSp</th>\n",
       "      <th>Parch</th>\n",
       "      <th>Ticket</th>\n",
       "      <th>Fare</th>\n",
       "      <th>Cabin</th>\n",
       "      <th>Embarked</th>\n",
       "    </tr>\n",
       "  </thead>\n",
       "  <tbody>\n",
       "    <tr>\n",
       "      <th>0</th>\n",
       "      <td>892</td>\n",
       "      <td>3</td>\n",
       "      <td>Kelly, Mr. James</td>\n",
       "      <td>male</td>\n",
       "      <td>34.5</td>\n",
       "      <td>0</td>\n",
       "      <td>0</td>\n",
       "      <td>330911</td>\n",
       "      <td>7.8292</td>\n",
       "      <td>NaN</td>\n",
       "      <td>Q</td>\n",
       "    </tr>\n",
       "    <tr>\n",
       "      <th>1</th>\n",
       "      <td>893</td>\n",
       "      <td>3</td>\n",
       "      <td>Wilkes, Mrs. James (Ellen Needs)</td>\n",
       "      <td>female</td>\n",
       "      <td>47.0</td>\n",
       "      <td>1</td>\n",
       "      <td>0</td>\n",
       "      <td>363272</td>\n",
       "      <td>7.0000</td>\n",
       "      <td>NaN</td>\n",
       "      <td>S</td>\n",
       "    </tr>\n",
       "  </tbody>\n",
       "</table>\n",
       "</div>"
      ],
      "text/plain": [
       "   PassengerId  Pclass                              Name     Sex   Age  SibSp  \\\n",
       "0          892       3                  Kelly, Mr. James    male  34.5      0   \n",
       "1          893       3  Wilkes, Mrs. James (Ellen Needs)  female  47.0      1   \n",
       "\n",
       "   Parch  Ticket    Fare Cabin Embarked  \n",
       "0      0  330911  7.8292   NaN        Q  \n",
       "1      0  363272  7.0000   NaN        S  "
      ]
     },
     "execution_count": 4,
     "metadata": {},
     "output_type": "execute_result"
    }
   ],
   "source": [
    "# Аналогично взглянем на тестовый датасет\n",
    "test.head(2)"
   ]
  },
  {
   "cell_type": "code",
   "execution_count": 5,
   "metadata": {},
   "outputs": [],
   "source": [
    "# Оставляем тут метку, чтобы в будущем было удобно делать датафрейм результатов\n",
    "passenger_id = test['PassengerId']\n",
    "\n",
    "# Количество объектов в нашем датасете\n",
    "data_len = len(train)\n",
    "\n",
    "# Сразу делаем Y для обучения\n",
    "y_train = train['Survived']\n",
    "\n",
    "# Соединяем тренировочный и тестовый датасет\n",
    "X = pd.concat([train, test])\n",
    "\n",
    "# Понадобится для обучения моделей\n",
    "kfold = StratifiedKFold(n_splits=8)"
   ]
  },
  {
   "cell_type": "code",
   "execution_count": 6,
   "metadata": {},
   "outputs": [
    {
     "data": {
      "text/html": [
       "<div>\n",
       "<style scoped>\n",
       "    .dataframe tbody tr th:only-of-type {\n",
       "        vertical-align: middle;\n",
       "    }\n",
       "\n",
       "    .dataframe tbody tr th {\n",
       "        vertical-align: top;\n",
       "    }\n",
       "\n",
       "    .dataframe thead th {\n",
       "        text-align: right;\n",
       "    }\n",
       "</style>\n",
       "<table border=\"1\" class=\"dataframe\">\n",
       "  <thead>\n",
       "    <tr style=\"text-align: right;\">\n",
       "      <th></th>\n",
       "      <th>PassengerId</th>\n",
       "      <th>Survived</th>\n",
       "    </tr>\n",
       "  </thead>\n",
       "  <tbody>\n",
       "    <tr>\n",
       "      <th>0</th>\n",
       "      <td>892</td>\n",
       "      <td>0</td>\n",
       "    </tr>\n",
       "    <tr>\n",
       "      <th>1</th>\n",
       "      <td>893</td>\n",
       "      <td>1</td>\n",
       "    </tr>\n",
       "  </tbody>\n",
       "</table>\n",
       "</div>"
      ],
      "text/plain": [
       "   PassengerId  Survived\n",
       "0          892         0\n",
       "1          893         1"
      ]
     },
     "execution_count": 6,
     "metadata": {},
     "output_type": "execute_result"
    }
   ],
   "source": [
    "# Отобразим пример результатов, чтобы правильно написать функцию для сохранения файла\n",
    "result_example.head(2)"
   ]
  },
  {
   "cell_type": "code",
   "execution_count": 7,
   "metadata": {},
   "outputs": [],
   "source": [
    "# Функция для быстрого сохранения результата\n",
    "def save_result(predict, file_name):\n",
    "    predict_df = pd.DataFrame({'PassengerId': passenger_id, 'Survived': predict})\n",
    "    predict_df.to_csv(file_name, index=False)"
   ]
  },
  {
   "cell_type": "markdown",
   "metadata": {},
   "source": [
    "# 1. Для начала посмотрим на графики и проанализируем их"
   ]
  },
  {
   "cell_type": "code",
   "execution_count": 8,
   "metadata": {},
   "outputs": [
    {
     "data": {
      "image/png": "[encoded data removed]",
      "text/plain": [
       "<Figure size 432x288 with 2 Axes>"
      ]
     },
     "metadata": {
      "needs_background": "light"
     },
     "output_type": "display_data"
    }
   ],
   "source": [
    "# Построим график корреляции\n",
    "sns.heatmap(train[['Survived', 'Pclass', 'Age', 'SibSp', 'Parch', 'Fare']].corr(), annot=True);"
   ]
  },
  {
   "cell_type": "markdown",
   "metadata": {},
   "source": [
    "Видно, что одна переменная имеет сильную корреляцию по сравнению с другими.<br>\n",
    "Чтож, посмотрим на другие графики"
   ]
  },
  {
   "cell_type": "code",
   "execution_count": 9,
   "metadata": {},
   "outputs": [
    {
     "data": {
      "image/png": "[encoded data removed]",
      "text/plain": [
       "<Figure size 432x288 with 1 Axes>"
      ]
     },
     "metadata": {
      "needs_background": "light"
     },
     "output_type": "display_data"
    }
   ],
   "source": [
    "# Здесь мы смотрим соотношение выживших по критерию пола\n",
    "sns.barplot(x='Sex', y='Survived', data=train, palette='Set1');"
   ]
  },
  {
   "cell_type": "markdown",
   "metadata": {},
   "source": [
    "Также сильно бросается в глаза то, что женщин выжило в разы больше, чем мужчин"
   ]
  },
  {
   "cell_type": "code",
   "execution_count": 10,
   "metadata": {},
   "outputs": [
    {
     "data": {
      "image/png": "[encoded data removed]",
      "text/plain": [
       "<Figure size 430.5x360 with 1 Axes>"
      ]
     },
     "metadata": {
      "needs_background": "light"
     },
     "output_type": "display_data"
    }
   ],
   "source": [
    "# На этом графике более наглядно можно увидеть соотношение выживших мужчин и женщин в каждом классе\n",
    "sns.catplot(x='Pclass', y='Survived', hue='Sex', data=train, kind='bar', palette='Set1');"
   ]
  },
  {
   "cell_type": "markdown",
   "metadata": {},
   "source": [
    "Если посмотреть на график соотношения выживших мужчин и женщин в разных классах, то можно заметить, что тенденция выживаемости сохраняется, как и на предыдущих графиках"
   ]
  },
  {
   "cell_type": "code",
   "execution_count": 11,
   "metadata": {},
   "outputs": [
    {
     "data": {
      "image/png": "[encoded data removed]",
      "text/plain": [
       "<Figure size 432x216 with 2 Axes>"
      ]
     },
     "metadata": {
      "needs_background": "light"
     },
     "output_type": "display_data"
    }
   ],
   "source": [
    "# График зависимости возраста от выживания пассажира\n",
    "sns.FacetGrid(train, col='Survived').map(sns.histplot, 'Age');"
   ]
  },
  {
   "cell_type": "markdown",
   "metadata": {},
   "source": [
    "На данном графике очень хорошо видно, что у молодых больше шансов выжить, чем у пожилых. Это вполне логичное явление"
   ]
  },
  {
   "cell_type": "code",
   "execution_count": 12,
   "metadata": {},
   "outputs": [
    {
     "data": {
      "image/png": "[encoded data removed]",
      "text/plain": [
       "<Figure size 915.875x216 with 1 Axes>"
      ]
     },
     "metadata": {
      "needs_background": "light"
     },
     "output_type": "display_data"
    }
   ],
   "source": [
    "graph_age = sns.FacetGrid(train, hue='Survived', aspect=4, palette='Set1')\n",
    "graph_age.map(sns.kdeplot, 'Age', shade=True)\n",
    "graph_age.set(xlim=(0, train['Age'].max()))\n",
    "graph_age.add_legend();"
   ]
  },
  {
   "cell_type": "markdown",
   "metadata": {},
   "source": [
    "Еще один график соотношения возраста и выживаемости пассажира для лучшей наглядности"
   ]
  },
  {
   "cell_type": "code",
   "execution_count": 13,
   "metadata": {},
   "outputs": [
    {
     "data": {
      "image/png": "[encoded data removed]",
      "text/plain": [
       "<Figure size 915.875x216 with 1 Axes>"
      ]
     },
     "metadata": {
      "needs_background": "light"
     },
     "output_type": "display_data"
    }
   ],
   "source": [
    "graph_age = sns.FacetGrid(train, hue='Survived', aspect=4, palette='Set1')\n",
    "graph_age.map(sns.kdeplot, 'Fare', shade=True)\n",
    "graph_age.set(xlim=(-60, train['Fare'].max()))\n",
    "graph_age.add_legend();"
   ]
  },
  {
   "cell_type": "markdown",
   "metadata": {},
   "source": [
    "График соотношения цены на билет и выживаемости пассажира. На нем можно заметить, что больше всего людей погибло с бюджетными билетами, что тоже имеет логику, так как маленькая цена говорит о том, что пассажир сидел не в приоритетном классе. Также это объясняется тем, что людей в бюджетном классе было больше всего."
   ]
  },
  {
   "cell_type": "code",
   "execution_count": 14,
   "metadata": {},
   "outputs": [
    {
     "data": {
      "image/png": "[encoded data removed]",
      "text/plain": [
       "<Figure size 432x288 with 1 Axes>"
      ]
     },
     "metadata": {
      "needs_background": "light"
     },
     "output_type": "display_data"
    }
   ],
   "source": [
    "sns.countplot(data=train, x='Pclass', hue='Survived', palette='Set1');"
   ]
  },
  {
   "cell_type": "markdown",
   "metadata": {},
   "source": [
    "Дополнительный график, который отображает количество выживших и погибших пассажиров между классами их билета"
   ]
  },
  {
   "cell_type": "markdown",
   "metadata": {},
   "source": [
    "# 2. Подготовим наш датасет для обучения\n",
    "## 2.1 Поработаем над пропущенными значениями"
   ]
  },
  {
   "cell_type": "code",
   "execution_count": 15,
   "metadata": {},
   "outputs": [],
   "source": [
    "# Заполним пустые значения возраста на медианные значения всех возрастов\n",
    "X['Age'].fillna(X['Age'].median(), inplace=True)"
   ]
  },
  {
   "cell_type": "code",
   "execution_count": 16,
   "metadata": {},
   "outputs": [],
   "source": [
    "# Заполним пустое значение Fare его медианным значением по всем наблюдениям\n",
    "X['Fare'].fillna(X['Fare'].median(), inplace=True)"
   ]
  },
  {
   "cell_type": "markdown",
   "metadata": {},
   "source": [
    "## 2.2 Полезный Feature Engineering\n",
    "Данный код я позаимствовал из другого проекта.<br>\n",
    "Он группирует семьи и людей с одинаковыми билетами и исследует их информацию.<br>\n",
    "Подробнее вы можете прочитать в <a href='https://www.kaggle.com/shunjiangxu/blood-is-thicker-than-water-friendship-forever' target='_blank'>оригинале</a>"
   ]
  },
  {
   "cell_type": "code",
   "execution_count": 17,
   "metadata": {},
   "outputs": [],
   "source": [
    "X['Family_Size'] = X['Parch'] + X['SibSp']\n",
    "X['Last_Name'] = X['Name'].apply(lambda x: str.split(x, \",\")[0])\n",
    "X['Family_Survival'] = 0.5"
   ]
  },
  {
   "cell_type": "code",
   "execution_count": 18,
   "metadata": {},
   "outputs": [],
   "source": [
    "for grp, grp_df in X[['Survived','Name', 'Last_Name', 'Fare', 'Ticket', 'PassengerId',\n",
    "                           'SibSp', 'Parch', 'Age', 'Cabin']].groupby(['Last_Name', 'Fare']):\n",
    "    if (len(grp_df) != 1):\n",
    "        for ind, row in grp_df.iterrows():\n",
    "            smax = grp_df.drop(ind)['Survived'].max()\n",
    "            smin = grp_df.drop(ind)['Survived'].min()\n",
    "            passID = row['PassengerId']\n",
    "            if (smax == 1.0):\n",
    "                X.loc[X['PassengerId'] == passID, 'Family_Survival'] = 1\n",
    "            elif (smin==0.0):\n",
    "                X.loc[X['PassengerId'] == passID, 'Family_Survival'] = 0"
   ]
  },
  {
   "cell_type": "code",
   "execution_count": 19,
   "metadata": {},
   "outputs": [],
   "source": [
    "for _, grp_df in X.groupby('Ticket'):\n",
    "    if (len(grp_df) != 1):\n",
    "        for ind, row in grp_df.iterrows():\n",
    "            if (row['Family_Survival'] == 0) | (row['Family_Survival']== 0.5):\n",
    "                smax = grp_df.drop(ind)['Survived'].max()\n",
    "                smin = grp_df.drop(ind)['Survived'].min()\n",
    "                passID = row['PassengerId']\n",
    "                if (smax == 1.0):\n",
    "                    X.loc[X['PassengerId'] == passID, 'Family_Survival'] = 1\n",
    "                elif (smin==0.0):\n",
    "                    X.loc[X['PassengerId'] == passID, 'Family_Survival'] = 0"
   ]
  },
  {
   "cell_type": "markdown",
   "metadata": {},
   "source": [
    "## 2.3 Финальная предобработка"
   ]
  },
  {
   "cell_type": "code",
   "execution_count": 20,
   "metadata": {},
   "outputs": [],
   "source": [
    "# Создадим новую колонку, в которую распределим колонку Fare на 5 диапазонов значений\n",
    "X['FareBin'] = pd.qcut(X['Fare'], 5)\n",
    "\n",
    "# Исходя из нашей предыдущей колонки определим к какому номеру группы приравняется FareBin\n",
    "X['FareBin_Code'] = LabelEncoder().fit_transform(X['FareBin'])\n",
    "\n",
    "# Удаляем колонку Fare\n",
    "X.drop('Fare', axis=1, inplace=True)"
   ]
  },
  {
   "cell_type": "code",
   "execution_count": 21,
   "metadata": {
    "scrolled": true
   },
   "outputs": [],
   "source": [
    "# Создадим новую колонку, в которую распределим колонку Age на 4 диапазона значений\n",
    "X['AgeBin'] = pd.qcut(X['Age'], 4)\n",
    "\n",
    "# Исходя из нашей предыдущей колонки определим к какому номеру группы приравняется AgeBin\n",
    "X['AgeBin_Code'] = LabelEncoder().fit_transform(X['AgeBin'])\n",
    "\n",
    "# Удаляем колонку Age\n",
    "X.drop('Age', axis=1, inplace=True)"
   ]
  },
  {
   "cell_type": "code",
   "execution_count": 22,
   "metadata": {},
   "outputs": [],
   "source": [
    "# Переделаем пол в номинативный формат. Мужчина = 0, Женщина = 1\n",
    "X['Sex'] = X['Sex'].map({'male': 0, 'female': 1})"
   ]
  },
  {
   "cell_type": "code",
   "execution_count": 23,
   "metadata": {},
   "outputs": [],
   "source": [
    "# Уберем лишние колонки для Х\n",
    "X.drop(['Name', 'PassengerId', 'SibSp', 'Parch', 'Ticket', 'Cabin',\n",
    "               'Embarked', 'Last_Name', 'FareBin', 'AgeBin', 'Survived'], axis = 1, inplace = True)"
   ]
  },
  {
   "cell_type": "code",
   "execution_count": 24,
   "metadata": {},
   "outputs": [],
   "source": [
    "# Резделим обратно наши датасеты на тренировочный и тестовый\n",
    "X_train = X[:data_len]\n",
    "X_test = X[data_len:]"
   ]
  },
  {
   "cell_type": "code",
   "execution_count": 25,
   "metadata": {},
   "outputs": [],
   "source": [
    "# Создадим скаляр и преобразуем наши данные\n",
    "scaler = StandardScaler()\n",
    "X_train = scaler.fit_transform(X_train)\n",
    "X_test = scaler.transform(X_test)"
   ]
  },
  {
   "cell_type": "markdown",
   "metadata": {},
   "source": [
    "# 3. Приступим к обучению модели\n",
    "## 3.1 Метод Random Forest"
   ]
  },
  {
   "cell_type": "code",
   "execution_count": 26,
   "metadata": {},
   "outputs": [],
   "source": [
    "# Подключим наш классификатор\n",
    "clf_rf = RandomForestClassifier()"
   ]
  },
  {
   "cell_type": "code",
   "execution_count": 27,
   "metadata": {},
   "outputs": [],
   "source": [
    "# Пробежимся по данным параметрам для нахождения лучших\n",
    "rf_param = {'min_samples_leaf': [5, 7, 9], 'bootstrap': [False, True], 'n_estimators' :[200, 400], \n",
    "                 'criterion': ['gini', 'entropy']}"
   ]
  },
  {
   "cell_type": "code",
   "execution_count": 28,
   "metadata": {},
   "outputs": [],
   "source": [
    "# Эти лучшие параметры уже переписаны, чтобы потом сократить время обучения\n",
    "rf_param_best = {'bootstrap': [False], 'criterion': ['gini'], 'max_depth': [None], 'max_features': [3], \n",
    "                 'min_samples_leaf': [5], 'min_samples_split': [4], 'n_estimators': [200]}"
   ]
  },
  {
   "cell_type": "code",
   "execution_count": 29,
   "metadata": {},
   "outputs": [],
   "source": [
    "# Прогоним наш классификатор с заданными параметрами и с настроенной кросс-валидацией\n",
    "gs_rf = GridSearchCV(clf_rf, rf_param_best, cv=kfold, scoring='roc_auc', n_jobs=-1)"
   ]
  },
  {
   "cell_type": "code",
   "execution_count": 30,
   "metadata": {},
   "outputs": [],
   "source": [
    "# Обучаем нашу модель\n",
    "gs_rf.fit(X_train, y_train);"
   ]
  },
  {
   "cell_type": "code",
   "execution_count": 31,
   "metadata": {},
   "outputs": [
    {
     "name": "stdout",
     "output_type": "stream",
     "text": [
      "Лучшая оценка метрики: 0.8836035825688551\n"
     ]
    }
   ],
   "source": [
    "# Сохраняем лучший классификатор в переменную и выводим лучшие параметры и оценку метрики\n",
    "rf_best = gs_rf.best_estimator_\n",
    "# print('Лучшие параметры для обучения:', gs_rf.best_params_)\n",
    "print('Лучшая оценка метрики:', gs_rf.best_score_)"
   ]
  },
  {
   "cell_type": "markdown",
   "metadata": {},
   "source": [
    "## 3.2 Метод XGBoost"
   ]
  },
  {
   "cell_type": "code",
   "execution_count": 32,
   "metadata": {},
   "outputs": [],
   "source": [
    "# Создаем классификатор\n",
    "xgb_clf = XGBClassifier(eval_metric = 'logloss', use_label_encoder=False)"
   ]
  },
  {
   "cell_type": "code",
   "execution_count": 33,
   "metadata": {},
   "outputs": [],
   "source": [
    "# Параметры для поиска наилучших\n",
    "xgb_param = {'learning_rate':[0.05, 0.1], 'reg_lambda':[0.3, 0.5], 'gamma': [0.8, 1], \n",
    "                  'subsample': [0.8, 1], 'max_depth': [2, 3], 'n_estimators': [200, 300]}"
   ]
  },
  {
   "cell_type": "code",
   "execution_count": 34,
   "metadata": {},
   "outputs": [],
   "source": [
    "# Лучшие параметры\n",
    "xgb_param_best = {'gamma': [1], 'learning_rate': [0.05], 'max_depth': [2], \n",
    "                       'n_estimators': [300], 'reg_lambda': [0.3], 'subsample': [0.8]}"
   ]
  },
  {
   "cell_type": "code",
   "execution_count": 35,
   "metadata": {},
   "outputs": [],
   "source": [
    "# Прогоняем наш классификатор по аналогии с предыдущим методом\n",
    "greed_xgb = GridSearchCV(xgb_clf, xgb_param_best, cv=kfold, scoring='roc_auc', n_jobs=-1)"
   ]
  },
  {
   "cell_type": "code",
   "execution_count": 36,
   "metadata": {},
   "outputs": [],
   "source": [
    "# Обучаем нашу модель\n",
    "greed_xgb.fit(X_train, y_train);"
   ]
  },
  {
   "cell_type": "code",
   "execution_count": 37,
   "metadata": {},
   "outputs": [
    {
     "name": "stdout",
     "output_type": "stream",
     "text": [
      "Лучшая оценка метрики: 0.887467897927624\n"
     ]
    }
   ],
   "source": [
    "# Сохраняем лучший классификатор в переменную и выводим лучшие параметры и оценку метрики\n",
    "xgb_best = greed_xgb.best_estimator_\n",
    "# print('Лучшие параметры для обучения:', gs_xgb.best_params_)\n",
    "print('Лучшая оценка метрики:', greed_xgb.best_score_)"
   ]
  },
  {
   "cell_type": "markdown",
   "metadata": {},
   "source": [
    "## 3.3 Логистическая регрессия"
   ]
  },
  {
   "cell_type": "code",
   "execution_count": 38,
   "metadata": {},
   "outputs": [],
   "source": [
    "# Создаем классификатор логистической регрессии\n",
    "log_clf = LogisticRegression()"
   ]
  },
  {
   "cell_type": "code",
   "execution_count": 39,
   "metadata": {},
   "outputs": [],
   "source": [
    "# Прогоним модель через данные параметры для нахождения лучших\n",
    "log_param = {'penalty': ['l1', 'l2', 'elasticnet', 'none'], 'dual': [True, False], 'C': [0.2, 0.4, 0.6, 0.8, 1.0],\n",
    "            'solver': ['newton-cg', 'lbfgs', 'liblinear', 'sag', 'saga']}"
   ]
  },
  {
   "cell_type": "code",
   "execution_count": 40,
   "metadata": {},
   "outputs": [],
   "source": [
    "# Лучшие параметры\n",
    "log_param_best = {'C': [0.4], 'dual': [True], 'penalty': ['l2'], 'solver': ['liblinear']}"
   ]
  },
  {
   "cell_type": "code",
   "execution_count": 41,
   "metadata": {},
   "outputs": [],
   "source": [
    "# Прогоняем классификатор\n",
    "greed_log = GridSearchCV(log_clf, log_param, cv=kfold, scoring='roc_auc', n_jobs=-1)"
   ]
  },
  {
   "cell_type": "code",
   "execution_count": 42,
   "metadata": {},
   "outputs": [],
   "source": [
    "# Обучаем нашу модель\n",
    "greed_log.fit(X_train, y_train);"
   ]
  },
  {
   "cell_type": "code",
   "execution_count": 43,
   "metadata": {},
   "outputs": [
    {
     "name": "stdout",
     "output_type": "stream",
     "text": [
      "Лучшая оценка метрики: 0.8777296792495225\n"
     ]
    }
   ],
   "source": [
    "# Сохраняем лучший классификатор в переменную и выводим лучшие параметры и оценку метрики\n",
    "log_best = greed_log.best_estimator_\n",
    "# print('Лучшие параметры для обучения:', greed_log.best_params_)\n",
    "print('Лучшая оценка метрики:', greed_log.best_score_)"
   ]
  },
  {
   "cell_type": "markdown",
   "metadata": {},
   "source": [
    "## 3.4 Метод ближайших соседей"
   ]
  },
  {
   "cell_type": "code",
   "execution_count": 44,
   "metadata": {},
   "outputs": [],
   "source": [
    "# Создаем классификатор\n",
    "knn_clf = KNeighborsClassifier()"
   ]
  },
  {
   "cell_type": "code",
   "execution_count": 45,
   "metadata": {},
   "outputs": [],
   "source": [
    "# Параметры для подбора\n",
    "knn_param = {'algorithm': ['auto'], 'weights': ['uniform', 'distance'], \n",
    "             'leaf_size': [20, 25, 30], 'n_neighbors': [12, 14, 16]}"
   ]
  },
  {
   "cell_type": "code",
   "execution_count": 46,
   "metadata": {},
   "outputs": [],
   "source": [
    "# Лучшие параметры\n",
    "knn_param_best = {'algorithm': ['auto'], 'leaf_size': [25], \n",
    "                  'n_neighbors': [16], 'weights': ['uniform']}"
   ]
  },
  {
   "cell_type": "code",
   "execution_count": 47,
   "metadata": {},
   "outputs": [],
   "source": [
    "# Прогоняем классификатор\n",
    "greed_knn = GridSearchCV(knn_clf, knn_param_best, cv=kfold, scoring='roc_auc', n_jobs=-1)"
   ]
  },
  {
   "cell_type": "code",
   "execution_count": 48,
   "metadata": {},
   "outputs": [],
   "source": [
    "# Обучаем нашу модель\n",
    "greed_knn.fit(X_train, y_train);"
   ]
  },
  {
   "cell_type": "code",
   "execution_count": 49,
   "metadata": {},
   "outputs": [
    {
     "name": "stdout",
     "output_type": "stream",
     "text": [
      "Лучшая оценка метрики: 0.8813168003972738\n"
     ]
    }
   ],
   "source": [
    "# Сохраняем лучший классификатор в переменную и выводим лучшие параметры и оценку метрики\n",
    "knn_best = greed_knn.best_estimator_\n",
    "# print('Лучшие параметры для обучения:', greed_knn.best_params_)\n",
    "print('Лучшая оценка метрики:', greed_knn.best_score_)"
   ]
  },
  {
   "cell_type": "markdown",
   "metadata": {},
   "source": [
    "## 3.5 Градиентный бустинг"
   ]
  },
  {
   "cell_type": "code",
   "execution_count": 50,
   "metadata": {},
   "outputs": [],
   "source": [
    "# Создаем классификатор\n",
    "grad_clf = GradientBoostingClassifier()"
   ]
  },
  {
   "cell_type": "code",
   "execution_count": 51,
   "metadata": {},
   "outputs": [],
   "source": [
    "# Параметры для подбора\n",
    "grag_param = {'loss' : ['deviance'], 'n_estimators' : [1000], 'learning_rate': [0.02, 0.05], \n",
    "                 'min_samples_split': [15, 20, 25], 'max_depth': [4, 6], \n",
    "                 'min_samples_leaf': [50, 60], 'max_features': [\"sqrt\"]}"
   ]
  },
  {
   "cell_type": "code",
   "execution_count": 52,
   "metadata": {},
   "outputs": [],
   "source": [
    "# Лучшие параметры\n",
    "grad_param_best = {'loss' : [\"deviance\"], 'n_estimators' : [1000], 'learning_rate': [0.02], \n",
    "                      'min_samples_split': [25], 'max_depth': [4], \n",
    "                      'min_samples_leaf': [60], 'max_features': [\"sqrt\"]}"
   ]
  },
  {
   "cell_type": "code",
   "execution_count": 53,
   "metadata": {},
   "outputs": [],
   "source": [
    "# Прогоняем классификатор\n",
    "greed_grad = GridSearchCV(grad_clf, grad_param_best, cv=kfold, scoring=\"roc_auc\", n_jobs=-1)"
   ]
  },
  {
   "cell_type": "code",
   "execution_count": 54,
   "metadata": {},
   "outputs": [],
   "source": [
    "# Обучаем нашу модель\n",
    "greed_grad.fit(X_train, y_train);"
   ]
  },
  {
   "cell_type": "code",
   "execution_count": 55,
   "metadata": {},
   "outputs": [
    {
     "name": "stdout",
     "output_type": "stream",
     "text": [
      "Лучшая оценка метрики: 0.8838532653540014\n"
     ]
    }
   ],
   "source": [
    "# Сохраняем лучший классификатор в переменную и выводим лучшие параметры и оценку метрики\n",
    "gb_best = greed_grad.best_estimator_\n",
    "# print('GradienBoost GridSearch best params:', gs_gb.best_params_)\n",
    "print('Лучшая оценка метрики:', greed_grad.best_score_)"
   ]
  },
  {
   "cell_type": "markdown",
   "metadata": {},
   "source": [
    "# 4. Подводим итоги и сохраняем результат"
   ]
  },
  {
   "cell_type": "markdown",
   "metadata": {},
   "source": [
    "Соберем вместе все наши метрики от разных методов обучения, чтобы найти наилучшую"
   ]
  },
  {
   "cell_type": "code",
   "execution_count": 59,
   "metadata": {},
   "outputs": [
    {
     "data": {
      "text/html": [
       "<div>\n",
       "<style scoped>\n",
       "    .dataframe tbody tr th:only-of-type {\n",
       "        vertical-align: middle;\n",
       "    }\n",
       "\n",
       "    .dataframe tbody tr th {\n",
       "        vertical-align: top;\n",
       "    }\n",
       "\n",
       "    .dataframe thead th {\n",
       "        text-align: right;\n",
       "    }\n",
       "</style>\n",
       "<table border=\"1\" class=\"dataframe\">\n",
       "  <thead>\n",
       "    <tr style=\"text-align: right;\">\n",
       "      <th></th>\n",
       "      <th>Random Forest</th>\n",
       "      <th>XGBoost</th>\n",
       "      <th>Regression</th>\n",
       "      <th>Neighbors</th>\n",
       "      <th>Gradient</th>\n",
       "    </tr>\n",
       "  </thead>\n",
       "  <tbody>\n",
       "    <tr>\n",
       "      <th>1</th>\n",
       "      <td>0.883604</td>\n",
       "      <td>0.887468</td>\n",
       "      <td>0.87773</td>\n",
       "      <td>0.881317</td>\n",
       "      <td>0.883853</td>\n",
       "    </tr>\n",
       "  </tbody>\n",
       "</table>\n",
       "</div>"
      ],
      "text/plain": [
       "   Random Forest   XGBoost  Regression  Neighbors  Gradient\n",
       "1       0.883604  0.887468     0.87773   0.881317  0.883853"
      ]
     },
     "execution_count": 59,
     "metadata": {},
     "output_type": "execute_result"
    }
   ],
   "source": [
    "# Собираем датасет из наших метрик\n",
    "pd.DataFrame({'Random Forest': gs_rf.best_score_,'XGBoost': greed_xgb.best_score_, \n",
    "              'Regression': greed_log.best_score_, 'Neighbors': greed_knn.best_score_, \n",
    "              'Gradient': greed_grad.best_score_}, index=[1])"
   ]
  },
  {
   "cell_type": "code",
   "execution_count": 60,
   "metadata": {},
   "outputs": [],
   "source": [
    "# Создаем переменную, в которую запишем лучший метод для определения выживаемости пассажиров\n",
    "best_method = xgb_best.predict(X_test)"
   ]
  },
  {
   "cell_type": "code",
   "execution_count": 61,
   "metadata": {},
   "outputs": [],
   "source": [
    "# Вызываем нашу функцию и сохраняем файл с результатами\n",
    "save_result(best_method, 'result.csv')"
   ]
  }
 ],
 "metadata": {
  "kernelspec": {
   "display_name": "Python 3",
   "language": "python",
   "name": "python3"
  },
  "language_info": {
   "codemirror_mode": {
    "name": "ipython",
    "version": 3
   },
   "file_extension": ".py",
   "mimetype": "text/x-python",
   "name": "python",
   "nbconvert_exporter": "python",
   "pygments_lexer": "ipython3",
   "version": "3.8.5"
  }
 },
 "nbformat": 4,
 "nbformat_minor": 4
}
